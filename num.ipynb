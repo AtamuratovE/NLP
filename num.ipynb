{
 "cells": [
  {
   "cell_type": "code",
   "execution_count": 13,
   "id": "f7d036c6-0c5e-4182-8ad3-dcb4b5f15e0b",
   "metadata": {},
   "outputs": [
    {
     "name": "stdout",
     "output_type": "stream",
     "text": [
      "Sentence 1: I need twnty 2 jobs.\n"
     ]
    },
    {
     "name": "stderr",
     "output_type": "stream",
     "text": [
      "[nltk_data] Downloading package punkt to\n",
      "[nltk_data]     /home/atamuratov-e/nltk_data...\n",
      "[nltk_data]   Package punkt is already up-to-date!\n"
     ]
    }
   ],
   "source": [
    "import nltk\n",
    "from word2number import w2n\n",
    "\n",
    "# Download the required NLTK data files\n",
    "nltk.download('punkt')\n",
    "\n",
    "# Function to split text into sentences\n",
    "def split_into_sentences(text):\n",
    "    return nltk.sent_tokenize(text)\n",
    "\n",
    "# Function to convert text numbers to numeric\n",
    "def convert_text_numbers_to_numeric(sentence):\n",
    "    words = sentence.split()\n",
    "    new_words = []\n",
    "    for word in words:\n",
    "        try:\n",
    "            # Convert word to number if possible\n",
    "            num = w2n.word_to_num(word)\n",
    "            new_words.append(str(num))\n",
    "        except ValueError:\n",
    "            # If not, just append the word as is\n",
    "            new_words.append(word)\n",
    "    return ' '.join(new_words)\n",
    "\n",
    "# Input text\n",
    "text = \"\"\"I need twnty two jobs.\"\"\"\n",
    "\n",
    "# Split text into sentences\n",
    "sentences = split_into_sentences(text)\n",
    "\n",
    "# Convert text numbers to numeric in each sentence\n",
    "converted_sentences = [convert_text_numbers_to_numeric(sentence) for sentence in sentences]\n",
    "\n",
    "# Display the result\n",
    "for i, sentence in enumerate(converted_sentences):\n",
    "    print(f\"Sentence {i+1}: {sentence}\")\n"
   ]
  },
  {
   "cell_type": "code",
   "execution_count": null,
   "id": "690463c8-dd37-4620-841b-bf6f367ff401",
   "metadata": {},
   "outputs": [],
   "source": []
  },
  {
   "cell_type": "code",
   "execution_count": 11,
   "id": "b5819334-b311-43cb-a651-fdcf217a4f09",
   "metadata": {},
   "outputs": [
    {
     "name": "stdout",
     "output_type": "stream",
     "text": [
      "Sentence 1: Ваш текст идет здесь.\n",
      "Sentence 2: Например, у меня есть 20 яблок и 15 апельсинов.\n",
      "Sentence 3: Мне нужно найти 3 яблока. двадцать.\n"
     ]
    }
   ],
   "source": [
    "from natasha import Segmenter, NewsEmbedding, NewsMorphTagger, NewsSyntaxParser, NewsNERTagger, Doc\n",
    "import pymorphy2\n",
    "\n",
    "# Initialize Natasha components\n",
    "segmenter = Segmenter()\n",
    "morph_tagger = NewsMorphTagger(NewsEmbedding())\n",
    "syntax_parser = NewsSyntaxParser(NewsEmbedding())\n",
    "ner_tagger = NewsNERTagger(NewsEmbedding())\n",
    "\n",
    "# Initialize pymorphy2 for Russian morphological analysis\n",
    "morph = pymorphy2.MorphAnalyzer()\n",
    "\n",
    "# Function to split text into sentences using Natasha\n",
    "def split_into_sentences(text):\n",
    "    doc = Doc(text)\n",
    "    doc.segment(segmenter)\n",
    "    return [sentence.text for sentence in doc.sents]\n",
    "\n",
    "# Map Russian text numbers to numeric values\n",
    "text_to_number = {\n",
    "    'ноль': 0, 'один': 1, 'два': 2, 'три': 3, 'четыре': 4,\n",
    "    'пять': 5, 'шесть': 6, 'семь': 7, 'восемь': 8, 'девять': 9,\n",
    "    'десять': 10, 'одиннадцать': 11, 'двенадцать': 12, 'тринадцать': 13,\n",
    "    'четырнадцать': 14, 'пятнадцать': 15, 'шестнадцать': 16, 'семнадцать': 17,\n",
    "    'восемнадцать': 18, 'девятнадцать': 19, 'двадцать': 20, 'двадцать один': 21,\n",
    "    'двадцать два': 22, 'двадцать три': 23, 'двадцать четыре': 24,\n",
    "    'двадцать пять': 25, 'двадцать шесть': 26, 'двадцать семь': 27,\n",
    "    'двадцать восемь': 28, 'двадцать девять': 29, 'тридцать': 30, 'тридцать один': 31, 'тридцать два': 32, 'тридцать три': 33,\n",
    "    'тридцать четыре': 34, 'тридцать пять': 35, 'тридцать шесть': 36,\n",
    "    'тридцать семь': 37, 'тридцать восемь': 38, 'тридцать девять': 39,\n",
    "    'сорок': 40, 'сорок один': 41, 'сорок два': 42, 'сорок три': 43,\n",
    "    'сорок четыре': 44, 'сорок пять': 45, 'сорок шесть': 46,\n",
    "    'сорок семь': 47, 'сорок восемь': 48, 'сорок девять': 49, 'пятьдесят': 50, 'пятьдесят один': 51, 'пятьдесят два': 52, 'пятьдесят три': 53,\n",
    "    'пятьдесят четыре': 54, 'пятьдесят пять': 55, 'пятьдесят шесть': 56,\n",
    "    'пятьдесят семь': 57, 'пятьдесят восемь': 58, 'пятьдесят девять': 59,\n",
    "    'шестьдесят': 60, 'шестьдесят один': 61, 'шестьдесят два': 62, 'шестьдесят три': 63,\n",
    "    'шестьдесят четыре': 64, 'шестьдесят пять': 65, 'шестьдесят шесть': 66,\n",
    "    'шестьдесят семь': 67, 'шестьдесят восемь': 68, 'шестьдесят девять': 69, 'семьдесят': 70, 'семьдесят один': 71, 'семьдесят два': 72, 'семьдесят три': 73,\n",
    "    'семьдесят четыре': 74, 'семьдесят пять': 75, 'семьдесят шесть': 76,\n",
    "    'семьдесят семь': 77, 'семьдесят восемь': 78, 'семьдесят девять': 79,\n",
    "    'восемьдесят': 80, 'восемьдесят один': 81, 'восемьдесят два': 82, 'восемьдесят три': 83,\n",
    "    'восемьдесят четыре': 84, 'восемьдесят пять': 85, 'восемьдесят шесть': 86,\n",
    "    'восемьдесят семь': 87, 'восемьдесят восемь': 88, 'восемьдесят девять': 89, 'девяносто': 90, 'девяносто один': 91, 'девяносто два': 92, 'девяносто три': 93,\n",
    "    'девяносто четыре': 94, 'девяносто пять': 95, 'девяносто шесть': 96,\n",
    "    'девяносто семь': 97, 'девяносто восемь': 98, 'девяносто девять': 99,\n",
    "    'сто': 100, 'двести': 200,\n",
    "    'триста': 300, 'четыреста': 400, 'пятьсот': 500, 'шестьсот': 600,\n",
    "    'семьсот': 700, 'восемьсот': 800, 'девятьсот': 900, 'тысяча': 1000,\n",
    "    'миллион': 1000000\n",
    "}\n",
    "\n",
    "# Function to convert text numbers to numeric in Russian sentences\n",
    "def convert_text_numbers_to_numeric(sentence):\n",
    "    words = sentence.split()\n",
    "    new_words = []\n",
    "    for word in words:\n",
    "        parsed = morph.parse(word)[0]\n",
    "        if parsed.normal_form in text_to_number:\n",
    "            new_words.append(str(text_to_number[parsed.normal_form]))\n",
    "        else:\n",
    "            new_words.append(word)\n",
    "    return ' '.join(new_words)\n",
    "\n",
    "# Input text\n",
    "text = \"\"\"Ваш текст идет здесь. Например, у меня есть двадцать яблок и пятнадцать апельсинов. Мне нужно найти три яблока. двадцать.\"\"\"\n",
    "\n",
    "# Split text into sentences\n",
    "sentences = split_into_sentences(text)\n",
    "\n",
    "# Convert text numbers to numeric in each sentence\n",
    "converted_sentences = [convert_text_numbers_to_numeric(sentence) for sentence in sentences]\n",
    "\n",
    "# Display the result\n",
    "for i, sentence in enumerate(converted_sentences):\n",
    "    print(f\"Sentence {i+1}: {sentence}\")"
   ]
  },
  {
   "cell_type": "markdown",
   "id": "a6fe4bdd-430a-4198-a265-9307415216f1",
   "metadata": {},
   "source": [
    "##### When they make mistakes"
   ]
  },
  {
   "cell_type": "code",
   "execution_count": 12,
   "id": "f176f84e-5158-46af-baa4-3ad9a8f33541",
   "metadata": {},
   "outputs": [],
   "source": [
    "# pip install python-Levenshtein"
   ]
  },
  {
   "cell_type": "code",
   "execution_count": 3,
   "id": "dedd8dff-5236-42c6-86ac-55ab7277634b",
   "metadata": {},
   "outputs": [
    {
     "name": "stdout",
     "output_type": "stream",
     "text": [
      "Sentence 1: Ваш текст идет здесь.\n",
      "Sentence 2: Например, у 5 60 20 яблок 1 15 апельсинов.\n",
      "Sentence 3: 5 нужно найти 3 яблока.\n",
      "Sentence 4: Некоторые могут сделать ошибки, такие как 20 100 20\n"
     ]
    }
   ],
   "source": [
    "from natasha import Segmenter, NewsEmbedding, NewsMorphTagger, Doc\n",
    "import pymorphy2\n",
    "from fuzzywuzzy import process\n",
    "\n",
    "# Initialize Natasha components\n",
    "segmenter = Segmenter()\n",
    "morph_tagger = NewsMorphTagger(NewsEmbedding())\n",
    "\n",
    "# Initialize pymorphy2 for Russian morphological analysis\n",
    "morph = pymorphy2.MorphAnalyzer()\n",
    "\n",
    "# Function to split text into sentences using Natasha\n",
    "def split_into_sentences(text):\n",
    "    doc = Doc(text)\n",
    "    doc.segment(segmenter)\n",
    "    return [sentence.text for sentence in doc.sents]\n",
    "\n",
    "# Map Russian text numbers to numeric values\n",
    "text_to_number = {\n",
    "    'ноль': 0, 'один': 1, 'два': 2, 'три': 3, 'четыре': 4,\n",
    "    'пять': 5, 'шесть': 6, 'семь': 7, 'восемь': 8, 'девять': 9,\n",
    "    'десять': 10, 'одиннадцать': 11, 'двенадцать': 12, 'тринадцать': 13,\n",
    "    'четырнадцать': 14, 'пятнадцать': 15, 'шестнадцать': 16, 'семнадцать': 17,\n",
    "    'восемнадцать': 18, 'девятнадцать': 19, 'двадцать': 20, 'тридцать': 30,\n",
    "    'сорок': 40, 'пятьдесят': 50, 'шестьдесят': 60, 'семьдесят': 70,\n",
    "    'восемьдесят': 80, 'девяносто': 90, 'сто': 100, 'двести': 200,\n",
    "    'триста': 300, 'четыреста': 400, 'пятьсот': 500, 'шестьсот': 600,\n",
    "    'семьсот': 700, 'восемьсот': 800, 'девятьсот': 900, 'тысяча': 1000,\n",
    "    'миллион': 1000000\n",
    "}\n",
    "\n",
    "# Function to convert text numbers to numeric in Russian sentences\n",
    "def convert_text_numbers_to_numeric(sentence):\n",
    "    words = sentence.split()\n",
    "    new_words = []\n",
    "    for word in words:\n",
    "        parsed = morph.parse(word)[0]\n",
    "        normal_form = parsed.normal_form\n",
    "        \n",
    "        # Use fuzzy matching to find the closest number word\n",
    "        if normal_form not in text_to_number:\n",
    "            closest_match = process.extractOne(normal_form, text_to_number.keys(), score_cutoff=80)\n",
    "            if closest_match:\n",
    "                normal_form = closest_match[0]\n",
    "\n",
    "        if normal_form in text_to_number:\n",
    "            new_words.append(str(text_to_number[normal_form]))\n",
    "        else:\n",
    "            new_words.append(word)\n",
    "    return ' '.join(new_words)\n",
    "\n",
    "# Input text\n",
    "text = \"\"\"Ваш текст идет здесь. Например, у меня есть двадцать яблок и пятнадцать апельсинов. Мне нужно найти три яблока. Некоторые могут сделать ошибки, такие как дадцать вместо двадцать.\"\"\"\n",
    "\n",
    "# Split text into sentences\n",
    "sentences = split_into_sentences(text)\n",
    "\n",
    "# Convert text numbers to numeric in each sentence\n",
    "converted_sentences = [convert_text_numbers_to_numeric(sentence) for sentence in sentences]\n",
    "\n",
    "# Display the result\n",
    "for i, sentence in enumerate(converted_sentences):\n",
    "    print(f\"Sentence {i+1}: {sentence}\")\n"
   ]
  },
  {
   "cell_type": "code",
   "execution_count": null,
   "id": "f10baa6d-a22b-4c42-b8f7-599953f037a7",
   "metadata": {},
   "outputs": [],
   "source": []
  },
  {
   "cell_type": "code",
   "execution_count": null,
   "id": "0414973a-05e9-4c2c-8f0c-6a07be4d880e",
   "metadata": {},
   "outputs": [],
   "source": []
  },
  {
   "cell_type": "code",
   "execution_count": null,
   "id": "e9163983-d155-40dd-a741-b280caf35879",
   "metadata": {},
   "outputs": [],
   "source": []
  },
  {
   "cell_type": "code",
   "execution_count": null,
   "id": "523f7d7f-d361-4d61-ae09-9a6c14934705",
   "metadata": {},
   "outputs": [],
   "source": []
  },
  {
   "cell_type": "code",
   "execution_count": null,
   "id": "bcd89d40-9be7-40bc-a705-410bbdb5fb0f",
   "metadata": {},
   "outputs": [],
   "source": []
  },
  {
   "cell_type": "code",
   "execution_count": null,
   "id": "d354361d-9aac-4563-8aad-71ed013b8d54",
   "metadata": {},
   "outputs": [],
   "source": []
  },
  {
   "cell_type": "code",
   "execution_count": null,
   "id": "62827732-3d5f-4571-9b09-5afa0b0c6d03",
   "metadata": {},
   "outputs": [],
   "source": []
  },
  {
   "cell_type": "code",
   "execution_count": null,
   "id": "2ee7968b-27b1-4def-9d66-26b8c33b31fa",
   "metadata": {},
   "outputs": [],
   "source": []
  },
  {
   "cell_type": "code",
   "execution_count": null,
   "id": "2279d3ee-dfb5-45f2-a087-15d4b26a4ff9",
   "metadata": {},
   "outputs": [],
   "source": []
  },
  {
   "cell_type": "code",
   "execution_count": null,
   "id": "d071131e-cd85-4692-8050-10c38aef1c3f",
   "metadata": {},
   "outputs": [],
   "source": []
  }
 ],
 "metadata": {
  "kernelspec": {
   "display_name": "myenv",
   "language": "python",
   "name": "myenv"
  },
  "language_info": {
   "codemirror_mode": {
    "name": "ipython",
    "version": 3
   },
   "file_extension": ".py",
   "mimetype": "text/x-python",
   "name": "python",
   "nbconvert_exporter": "python",
   "pygments_lexer": "ipython3",
   "version": "3.12.3"
  }
 },
 "nbformat": 4,
 "nbformat_minor": 5
}
